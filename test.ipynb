{
  "nbformat": 4,
  "nbformat_minor": 0,
  "metadata": {
    "accelerator": "GPU",
    "colab": {
      "name": "test.ipynb",
      "provenance": [],
      "collapsed_sections": []
    },
    "kernelspec": {
      "display_name": "Python 3",
      "language": "python",
      "name": "python3"
    },
    "language_info": {
      "codemirror_mode": {
        "name": "ipython",
        "version": 3
      },
      "file_extension": ".py",
      "mimetype": "text/x-python",
      "name": "python",
      "nbconvert_exporter": "python",
      "pygments_lexer": "ipython3",
      "version": "3.6.9"
    }
  },
  "cells": [
    {
      "cell_type": "code",
      "metadata": {
        "id": "DpkDb44XWq9g",
        "colab_type": "code",
        "colab": {
          "base_uri": "https://localhost:8080/",
          "height": 901
        },
        "outputId": "ea9f6da5-3670-465e-cf52-3f3d0f7abe20"
      },
      "source": [
        "import torch\n",
        "import torch.nn as nn\n",
        "import torchvision\n",
        "import torch.nn.functional as F\n",
        "from torch.utils.data import TensorDataset\n",
        "from dummy import *\n",
        "from GCN_model import *\n",
        "\n",
        "dtype = torch.long\n",
        "n_train = 32768\n",
        "n_valid = 4096 \n",
        "batch_size = 128\n",
        "learning_rate = 0.0001\n",
        "num_epochs = 50\n",
        "n_nodes = 10\n",
        "n_features = 3\n",
        "hidden_dim = 10\n",
        "n_classes = 4\n",
        "dropout = 0.5                        \n",
        "\n",
        "train_dataset, valid_dataset, train_features, valid_features = get_dataset(n_train, n_valid,\n",
        "                                                                           n_nodes, n_classes, n_features)\n",
        "train_loader = torch.utils.data.DataLoader(dataset=train_dataset, \n",
        "                                           batch_size=batch_size, \n",
        "                                           shuffle=True)\n",
        "\n",
        "valid_loader = torch.utils.data.DataLoader(dataset=valid_dataset, \n",
        "                                          batch_size=batch_size, \n",
        "                                          shuffle=False)\n",
        "X = torch.eye(n_nodes)\n",
        "\n",
        "model = TwoLayerGCN(n_nodes, hidden_dim, n_classes, dropout)\n",
        "\n",
        "criterion = nn.CrossEntropyLoss()\n",
        "optimizer = torch.optim.Adam(model.parameters(), lr=learning_rate)\n",
        "\n",
        "train_log = torch.zeros((num_epochs, 4), dtype=torch.float, requires_grad=False)\n",
        "\n",
        "correct = 0\n",
        "total = 0\n",
        "for epoch in range(num_epochs):\n",
        "    for i, (A, labels) in enumerate(train_loader):\n",
        "        \n",
        "        # Forward pass\n",
        "        outputs = model(X, A)\n",
        "        loss = criterion(outputs.transpose(1,2), labels)\n",
        "        \n",
        "        # Backward and optimize\n",
        "        optimizer.zero_grad()\n",
        "        loss.backward()\n",
        "        optimizer.step()\n",
        "        \n",
        "        _, predicted = torch.max(outputs,2)\n",
        "        correct += (predicted == labels).sum()\n",
        "        total += labels.numel()\n",
        "        \n",
        "    train_log[epoch, 0] = epoch\n",
        "    train_log[epoch, 1] = loss.item()\n",
        "    print ('Epoch [{}/{}], Loss: {:.4f}'.format(epoch+1, num_epochs, loss))\n",
        "    train_log[epoch, 2] = (100* correct / total)\n",
        "    \n",
        "    \n",
        "with torch.no_grad():\n",
        "    correct = 0\n",
        "    total = 0\n",
        "    for A, labels in valid_loader:\n",
        "        outputs = model(X, A)\n",
        "        _, predicted = torch.max(outputs, 2)\n",
        "        total += labels.numel()\n",
        "        correct += (predicted == labels).sum()\n",
        "\n",
        "    print('Accuracy of the network on the test data: {} %'.format(100 * correct / total))\n",
        "    \n",
        "train_log = train_log.detach().numpy()"
      ],
      "execution_count": 4,
      "outputs": [
        {
          "output_type": "stream",
          "text": [
            "Epoch [1/50], Loss: 1.4262\n",
            "Epoch [2/50], Loss: 1.3747\n",
            "Epoch [3/50], Loss: 1.3051\n",
            "Epoch [4/50], Loss: 1.2227\n",
            "Epoch [5/50], Loss: 1.1323\n",
            "Epoch [6/50], Loss: 1.0328\n",
            "Epoch [7/50], Loss: 0.9415\n",
            "Epoch [8/50], Loss: 0.8496\n",
            "Epoch [9/50], Loss: 0.7318\n",
            "Epoch [10/50], Loss: 0.6449\n",
            "Epoch [11/50], Loss: 0.5528\n",
            "Epoch [12/50], Loss: 0.4720\n",
            "Epoch [13/50], Loss: 0.4114\n",
            "Epoch [14/50], Loss: 0.3500\n",
            "Epoch [15/50], Loss: 0.2658\n",
            "Epoch [16/50], Loss: 0.2303\n",
            "Epoch [17/50], Loss: 0.2075\n",
            "Epoch [18/50], Loss: 0.1810\n",
            "Epoch [19/50], Loss: 0.1334\n",
            "Epoch [20/50], Loss: 0.1242\n",
            "Epoch [21/50], Loss: 0.1069\n",
            "Epoch [22/50], Loss: 0.1051\n",
            "Epoch [23/50], Loss: 0.0906\n",
            "Epoch [24/50], Loss: 0.0747\n",
            "Epoch [25/50], Loss: 0.0618\n",
            "Epoch [26/50], Loss: 0.0629\n",
            "Epoch [27/50], Loss: 0.0573\n",
            "Epoch [28/50], Loss: 0.0412\n",
            "Epoch [29/50], Loss: 0.0433\n",
            "Epoch [30/50], Loss: 0.0417\n",
            "Epoch [31/50], Loss: 0.0307\n",
            "Epoch [32/50], Loss: 0.0505\n",
            "Epoch [33/50], Loss: 0.0304\n",
            "Epoch [34/50], Loss: 0.0221\n",
            "Epoch [35/50], Loss: 0.0240\n",
            "Epoch [36/50], Loss: 0.0300\n",
            "Epoch [37/50], Loss: 0.0359\n",
            "Epoch [38/50], Loss: 0.0258\n",
            "Epoch [39/50], Loss: 0.0538\n",
            "Epoch [40/50], Loss: 0.0145\n",
            "Epoch [41/50], Loss: 0.0185\n",
            "Epoch [42/50], Loss: 0.0210\n",
            "Epoch [43/50], Loss: 0.0486\n",
            "Epoch [44/50], Loss: 0.0379\n",
            "Epoch [45/50], Loss: 0.0268\n",
            "Epoch [46/50], Loss: 0.0090\n",
            "Epoch [47/50], Loss: 0.0187\n",
            "Epoch [48/50], Loss: 0.0230\n",
            "Epoch [49/50], Loss: 0.0262\n",
            "Epoch [50/50], Loss: 0.0037\n",
            "Accuracy of the network on the test data: 99 %\n"
          ],
          "name": "stdout"
        }
      ]
    },
    {
      "cell_type": "code",
      "metadata": {
        "id": "IOcqz5YIWq9m",
        "colab_type": "code",
        "outputId": "dccecda7-56e7-4180-ae0e-7867cb3a8e1d",
        "colab": {
          "base_uri": "https://localhost:8080/",
          "height": 757
        }
      },
      "source": [
        "%matplotlib inline\n",
        "import matplotlib.pyplot as plt\n",
        "\n",
        "\n",
        "fig, ax = plt.subplots(2, 1, figsize=(10, 10))\n",
        "fig.tight_layout()\n",
        "\n",
        "ax[0].plot(train_log[:,0], train_log[:,1])\n",
        "ax[0].set(xlabel=\"epochs\", ylabel=\"loss\")\n",
        "\n",
        "ax[1].plot(train_log[:,0], train_log[:,2])\n",
        "ax[1].set(xlabel=\"epochs\", ylabel=\"train_acc\")"
      ],
      "execution_count": 5,
      "outputs": [
        {
          "output_type": "execute_result",
          "data": {
            "text/plain": [
              "[Text(63.125, 0.5, 'train_acc'), Text(0.5, 69.00000000000009, 'epochs')]"
            ]
          },
          "metadata": {
            "tags": []
          },
          "execution_count": 5
        },
        {
          "output_type": "display_data",
          "data": {
            "image/png": "[encoded data removed]",
            "text/plain": [
              "<Figure size 720x720 with 2 Axes>"
            ]
          },
          "metadata": {
            "tags": []
          }
        }
      ]
    },
    {
      "cell_type": "code",
      "metadata": {
        "id": "vXmMZAUGXUz4",
        "colab_type": "code",
        "colab": {
          "base_uri": "https://localhost:8080/",
          "height": 235
        },
        "outputId": "28e23bf5-e609-4ad3-86fe-a5615cb253b9"
      },
      "source": [
        "import torch\n",
        "import torch.nn as nn\n",
        "import torchvision\n",
        "import torch.nn.functional as F\n",
        "from torch.utils.data import TensorDataset\n",
        "from dummy import *\n",
        "from GIN_model import *\n",
        "\n",
        "dtype = torch.long\n",
        "n_train = 32768\n",
        "n_valid = 4096 \n",
        "batch_size = 128\n",
        "learning_rate = 0.0001\n",
        "num_epochs = 50\n",
        "n_nodes = 10\n",
        "n_features = 3\n",
        "hidden_dim = 10\n",
        "n_classes = 4\n",
        "dropout = 0.5                        \n",
        "n_gnn_layers = 5\n",
        "n_mlp_layers = 6\n",
        "learn_eps = True\n",
        "\n",
        "train_dataset, valid_dataset, train_features, valid_features = get_dataset(n_train=n_train, n_valid=n_valid,\n",
        "                                                                           n_nodes=n_nodes, n_classes=n_classes, n_features=n_features)\n",
        "train_loader = torch.utils.data.DataLoader(dataset=train_dataset, \n",
        "                                           batch_size=batch_size, \n",
        "                                           shuffle=True)\n",
        "\n",
        "valid_loader = torch.utils.data.DataLoader(dataset=valid_dataset, \n",
        "                                          batch_size=batch_size, \n",
        "                                          shuffle=False)\n",
        "\n",
        "train_features_loader = torch.utils.data.DataLoader(dataset=train_features, \n",
        "                                           batch_size=batch_size, \n",
        "                                           shuffle=True)\n",
        "\n",
        "valid_features_loader = torch.utils.data.DataLoader(dataset=valid_features, \n",
        "                                          batch_size=batch_size, \n",
        "                                          shuffle=False)\n",
        "\n",
        "model = GIN(n_gnn_layers, n_mlp_layers, n_features, hidden_dim, n_classes, learn_eps, dropout)\n",
        "\n",
        "criterion = nn.CrossEntropyLoss()\n",
        "optimizer = torch.optim.Adam(model.parameters(), lr=learning_rate)\n",
        "\n",
        "train_log = torch.zeros((num_epochs, 4), dtype=torch.float, requires_grad=False)\n",
        "\n",
        "correct = 0\n",
        "total = 0\n",
        "for epoch in range(num_epochs):\n",
        "    for i, (A, labels) in enumerate(train_loader):\n",
        "        \n",
        "        # Forward pass\n",
        "        _, outputs = model(A, train_features_loader[i]) # outputs = node scores, just like in GCN\n",
        "        # TO DO: find a way to iterate over train_features_loader to pick batches of features for training \n",
        "        loss = criterion(outputs.transpose(1,2), labels)\n",
        "        \n",
        "        # Backward and optimize\n",
        "        optimizer.zero_grad()\n",
        "        loss.backward()\n",
        "        optimizer.step()\n",
        "        \n",
        "        _, predicted = torch.max(outputs,2)\n",
        "        correct += (predicted == labels).sum()\n",
        "        total += labels.numel()\n",
        "        \n",
        "    train_log[epoch, 0] = epoch\n",
        "    train_log[epoch, 1] = loss.item()\n",
        "    print ('Epoch [{}/{}], Loss: {:.4f}'.format(epoch+1, num_epochs, loss))\n",
        "    train_log[epoch, 2] = (100* correct / total)\n",
        "    \n",
        "    \n",
        "with torch.no_grad():\n",
        "    correct = 0\n",
        "    total = 0\n",
        "    for A, labels in valid_loader:\n",
        "        outputs = model(X, A)\n",
        "        _, predicted = torch.max(outputs, 2)\n",
        "        total += labels.numel()\n",
        "        correct += (predicted == labels).sum()\n",
        "\n",
        "    print('Accuracy of the network on the test data: {} %'.format(100 * correct / total))\n",
        "    \n",
        "train_log = train_log.detach().numpy()"
      ],
      "execution_count": 8,
      "outputs": [
        {
          "output_type": "error",
          "ename": "TypeError",
          "evalue": "ignored",
          "traceback": [
            "\u001b[0;31m---------------------------------------------------------------------------\u001b[0m",
            "\u001b[0;31mTypeError\u001b[0m                                 Traceback (most recent call last)",
            "\u001b[0;32m<ipython-input-8-1b9849a8d0ef>\u001b[0m in \u001b[0;36m<module>\u001b[0;34m()\u001b[0m\n\u001b[1;32m     53\u001b[0m \u001b[0;34m\u001b[0m\u001b[0m\n\u001b[1;32m     54\u001b[0m         \u001b[0;31m# Forward pass\u001b[0m\u001b[0;34m\u001b[0m\u001b[0;34m\u001b[0m\u001b[0;34m\u001b[0m\u001b[0m\n\u001b[0;32m---> 55\u001b[0;31m         \u001b[0moutputs\u001b[0m \u001b[0;34m=\u001b[0m \u001b[0mmodel\u001b[0m\u001b[0;34m(\u001b[0m\u001b[0mA\u001b[0m\u001b[0;34m,\u001b[0m \u001b[0mtrain_features_loader\u001b[0m\u001b[0;34m[\u001b[0m\u001b[0mi\u001b[0m\u001b[0;34m]\u001b[0m\u001b[0;34m)\u001b[0m\u001b[0;34m\u001b[0m\u001b[0;34m\u001b[0m\u001b[0m\n\u001b[0m\u001b[1;32m     56\u001b[0m         \u001b[0mloss\u001b[0m \u001b[0;34m=\u001b[0m \u001b[0mcriterion\u001b[0m\u001b[0;34m(\u001b[0m\u001b[0moutputs\u001b[0m\u001b[0;34m.\u001b[0m\u001b[0mtranspose\u001b[0m\u001b[0;34m(\u001b[0m\u001b[0;36m1\u001b[0m\u001b[0;34m,\u001b[0m\u001b[0;36m2\u001b[0m\u001b[0;34m)\u001b[0m\u001b[0;34m,\u001b[0m \u001b[0mlabels\u001b[0m\u001b[0;34m)\u001b[0m\u001b[0;34m\u001b[0m\u001b[0;34m\u001b[0m\u001b[0m\n\u001b[1;32m     57\u001b[0m \u001b[0;34m\u001b[0m\u001b[0m\n",
            "\u001b[0;31mTypeError\u001b[0m: 'DataLoader' object does not support indexing"
          ]
        }
      ]
    }
  ]
}