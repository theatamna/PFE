{
 "cells": [
  {
   "cell_type": "code",
   "execution_count": 1,
   "metadata": {
    "colab": {
     "base_uri": "https://localhost:8080/",
     "height": 52
    },
    "colab_type": "code",
    "id": "8E4_i6HONRrw",
    "outputId": "1ced92ad-5b69-490c-daba-e7a8749c717d"
   },
   "outputs": [
    {
     "name": "stdout",
     "output_type": "stream",
     "text": [
      "Drive already mounted at /content/gdrive; to attempt to forcibly remount, call drive.mount(\"/content/gdrive\", force_remount=True).\n",
      "/content/gdrive/My Drive/PFE/PFE\n"
     ]
    }
   ],
   "source": [
    "from google.colab import drive\n",
    "drive.mount('/content/gdrive')\n",
    "%cd gdrive/My Drive/PFE/PFE"
   ]
  },
  {
   "cell_type": "code",
   "execution_count": 0,
   "metadata": {
    "colab": {},
    "colab_type": "code",
    "id": "iTjtphu5NUe0"
   },
   "outputs": [],
   "source": [
    "%matplotlib inline\n",
    "import matplotlib.pyplot as plt\n",
    "\n",
    "import torch\n",
    "import torch.nn as nn\n",
    "import torchvision\n",
    "import torch.nn.functional as F\n",
    "import numpy as np\n",
    "from torch.utils.data import TensorDataset\n",
    "from prep_dataset import *\n",
    "from models.GCN_model import *\n",
    "from models.GIN_model import *\n",
    "from train import *"
   ]
  },
  {
   "cell_type": "code",
   "execution_count": 0,
   "metadata": {
    "colab": {},
    "colab_type": "code",
    "id": "LDalbfP9Oiiw"
   },
   "outputs": [],
   "source": [
    "# Setting up the default data type\n",
    "use_cuda = torch.cuda.is_available()\n",
    "FloatTensor = torch.cuda.FloatTensor if use_cuda else torch.FloatTensor\n",
    "device = torch.device('cuda') if use_cuda else torch.device('cpu')\n",
    "dtype = torch.float32\n",
    "torch.set_default_tensor_type(FloatTensor)"
   ]
  },
  {
   "cell_type": "code",
   "execution_count": 0,
   "metadata": {
    "colab": {},
    "colab_type": "code",
    "id": "yXwzOJFbNWXd"
   },
   "outputs": [],
   "source": [
    "ds_name = \"PTC_MR\"\n",
    "batch_size = 128\n",
    "n_folds = 10\n",
    "folded_train_data, folded_test_data, folded_valid_data, info = get_folded_data(ds_name, batch_size, n_folds)"
   ]
  },
  {
   "cell_type": "code",
   "execution_count": 0,
   "metadata": {
    "colab": {},
    "colab_type": "code",
    "id": "mL9nGd33W7yO"
   },
   "outputs": [],
   "source": [
    "learning_rate = 0.0005\n",
    "num_epochs = 500\n",
    "n_features = info[0]\n",
    "hidden_dim = 8\n",
    "n_classes = info[1]\n",
    "dropout = 0.01\n",
    "n_gnn_layers = 5\n",
    "n_mlp_layers = 2"
   ]
  },
  {
   "cell_type": "code",
   "execution_count": 14,
   "metadata": {
    "colab": {
     "base_uri": "https://localhost:8080/",
     "height": 371
    },
    "colab_type": "code",
    "id": "v3wmKaNYLAVY",
    "outputId": "93212621-e54d-4d5b-e99c-4b52e6464bfa"
   },
   "outputs": [
    {
     "name": "stdout",
     "output_type": "stream",
     "text": [
      "Percentage of class no.0: 55.81395348837209%\n",
      "Percentage of class no.1: 44.18604651162791%\n"
     ]
    },
    {
     "data": {
      "image/png": "[encoded data removed]",
      "text/plain": [
       "<Figure size 1080x360 with 1 Axes>"
      ]
     },
     "metadata": {
      "needs_background": "light",
      "tags": []
     },
     "output_type": "display_data"
    }
   ],
   "source": [
    "counts = np.zeros(n_classes)\n",
    "h_labels = []\n",
    "for _, _, labels in folded_train_data[0]:\n",
    "    h_labels.append(labels.cpu().tolist())\n",
    "    unique, count = np.unique(labels.cpu(), return_counts=True)\n",
    "    counts += count\n",
    "for _, _, labels in folded_valid_data[0]:\n",
    "    h_labels.append(labels.cpu().tolist())\n",
    "    unique, count = np.unique(labels.cpu(), return_counts=True)\n",
    "    counts += count\n",
    "for _, _, labels in folded_test_data[0]:\n",
    "    h_labels.append(labels.cpu().tolist())\n",
    "    unique, count = np.unique(labels.cpu(), return_counts=True)\n",
    "    counts += count\n",
    "\n",
    "###\n",
    "for cl in unique:\n",
    "    print(\"Percentage of class no.{}: {}%\".format(cl, 100*counts[cl]/sum(counts)))\n",
    "####\n",
    "fig = plt.figure(figsize=(15,5))\n",
    "ax = plt.axes()\n",
    "ax.bar(unique, counts, align='center', alpha=0.5, edgecolor='black', linewidth=2)\n",
    "ax.set_title(\"class distribution\")\n",
    "ax.set_xticks(unique)\n",
    "plt.show()"
   ]
  },
  {
   "cell_type": "code",
   "execution_count": 0,
   "metadata": {
    "colab": {},
    "colab_type": "code",
    "id": "pKGVjh6_P8MB",
    "pycharm": {
     "name": "#%%\n"
    }
   },
   "outputs": [],
   "source": [
    "model = GIN(n_gnn_layers, n_mlp_layers, input_dim=n_features, hidden_dim=hidden_dim, \n",
    "            output_dim=n_classes, learn_eps=False, dropout=dropout, attention=False)\n",
    "\n",
    "criterion = nn.CrossEntropyLoss()\n",
    "optimizer = torch.optim.Adam(model.parameters(), lr=learning_rate)\n",
    "\n",
    "train_GNN(model, folded_train_data, folded_test_data, optimizer, criterion, num_epochs=num_epochs, device=device)"
   ]
  },
  {
   "cell_type": "code",
   "execution_count": 0,
   "metadata": {
    "colab": {},
    "colab_type": "code",
    "id": "axM9vNFaIurp"
   },
   "outputs": [],
   "source": [
    "model = GIN(n_gnn_layers, n_mlp_layers, input_dim=n_features, hidden_dim=hidden_dim, \n",
    "            output_dim=n_classes, learn_eps=False, dropout=dropout, attention=True)\n",
    "\n",
    "criterion = nn.CrossEntropyLoss()\n",
    "optimizer = torch.optim.Adam(model.parameters(), lr=learning_rate)\n",
    "\n",
    "train_GNN(model, folded_train_data, folded_test_data, optimizer, criterion, num_epochs=num_epochs, device=device)"
   ]
  },
  {
   "cell_type": "code",
   "execution_count": 0,
   "metadata": {
    "colab": {},
    "colab_type": "code",
    "id": "NBMb2deMv945"
   },
   "outputs": [],
   "source": []
  }
 ],
 "metadata": {
  "accelerator": "GPU",
  "colab": {
   "collapsed_sections": [],
   "name": "GIN_TEST.ipynb",
   "provenance": []
  },
  "kernelspec": {
   "display_name": "Python 3",
   "language": "python",
   "name": "python3"
  },
  "language_info": {
   "codemirror_mode": {
    "name": "ipython",
    "version": 3
   },
   "file_extension": ".py",
   "mimetype": "text/x-python",
   "name": "python",
   "nbconvert_exporter": "python",
   "pygments_lexer": "ipython3",
   "version": "3.6.9"
  }
 },
 "nbformat": 4,
 "nbformat_minor": 1
}
